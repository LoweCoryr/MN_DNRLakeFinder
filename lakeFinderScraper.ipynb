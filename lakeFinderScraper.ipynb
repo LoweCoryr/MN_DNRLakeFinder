{
 "cells": [
  {
   "cell_type": "code",
   "execution_count": null,
   "metadata": {},
   "outputs": [],
   "source": [
    "import pandas as pd\n",
    "\n",
    "import time"
   ]
  },
  {
   "cell_type": "code",
   "execution_count": null,
   "metadata": {},
   "outputs": [],
   "source": [
    "# Load selenium components\n",
    "from selenium import webdriver\n",
    "#from selenium.webdriver.common.by import By\n",
    "#from selenium.webdriver.support.ui import WebDriverWait, Select\n",
    "#from selenium.webdriver.support import expected_conditions as EC\n",
    "from selenium.common.exceptions import TimeoutException\n",
    "from selenium.webdriver.chrome.options import Options"
   ]
  },
  {
   "cell_type": "code",
   "execution_count": 6,
   "metadata": {},
   "outputs": [
    {
     "name": "stdout",
     "output_type": "stream",
     "text": [
      "ID: 01003100\n",
      "County: Aitkin\n",
      "Near: Sheshebee\n",
      "Border Water: No\n",
      "Sentinel Lake: No\n"
     ]
    }
   ],
   "source": [
    "# options = Options()\n",
    "# options.headless = False\n",
    "\n",
    "# url = \"https://www.dnr.state.mn.us/lakefind/lake.html?id=01003100\"\n",
    "# driver = webdriver.Chrome('./chromedriver')\n",
    "\n",
    "# driver.get(url)\n",
    "\n",
    "# time.sleep(5)\n",
    "\n",
    "# inputElement = driver.find_element_by_css_selector(\"p\")\n",
    "\n",
    "# lakeData = inputElement.text\n",
    "\n",
    "# print(lakeData)"
   ]
  },
  {
   "cell_type": "code",
   "execution_count": null,
   "metadata": {},
   "outputs": [
    {
     "data": {
      "text/html": [
       "<div>\n",
       "<style scoped>\n",
       "    .dataframe tbody tr th:only-of-type {\n",
       "        vertical-align: middle;\n",
       "    }\n",
       "\n",
       "    .dataframe tbody tr th {\n",
       "        vertical-align: top;\n",
       "    }\n",
       "\n",
       "    .dataframe thead th {\n",
       "        text-align: right;\n",
       "    }\n",
       "</style>\n",
       "<table border=\"1\" class=\"dataframe\">\n",
       "  <thead>\n",
       "    <tr style=\"text-align: right;\">\n",
       "      <th></th>\n",
       "      <th>Name</th>\n",
       "      <th>Nearest Town</th>\n",
       "      <th>County</th>\n",
       "      <th>URL</th>\n",
       "    </tr>\n",
       "    <tr>\n",
       "      <th>ID</th>\n",
       "      <th></th>\n",
       "      <th></th>\n",
       "      <th></th>\n",
       "      <th></th>\n",
       "    </tr>\n",
       "  </thead>\n",
       "  <tbody>\n",
       "    <tr>\n",
       "      <th>1004000</th>\n",
       "      <td>Aitkin</td>\n",
       "      <td>Libby</td>\n",
       "      <td>Aitkin</td>\n",
       "      <td>https://www.dnr.state.mn.us/lakefind/lake.html...</td>\n",
       "    </tr>\n",
       "    <tr>\n",
       "      <th>1003100</th>\n",
       "      <td>Anderson</td>\n",
       "      <td>Sheshebee</td>\n",
       "      <td>Aitkin</td>\n",
       "      <td>https://www.dnr.state.mn.us/lakefind/lake.html...</td>\n",
       "    </tr>\n",
       "    <tr>\n",
       "      <th>1016900</th>\n",
       "      <td>Bachelor</td>\n",
       "      <td>Aitkin</td>\n",
       "      <td>Aitkin</td>\n",
       "      <td>https://www.dnr.state.mn.us/lakefind/lake.html...</td>\n",
       "    </tr>\n",
       "    <tr>\n",
       "      <th>1004600</th>\n",
       "      <td>Ball Bluff</td>\n",
       "      <td>Jacobson</td>\n",
       "      <td>Aitkin</td>\n",
       "      <td>https://www.dnr.state.mn.us/lakefind/lake.html...</td>\n",
       "    </tr>\n",
       "    <tr>\n",
       "      <th>1006300</th>\n",
       "      <td>Bass</td>\n",
       "      <td>McGregor</td>\n",
       "      <td>Aitkin</td>\n",
       "      <td>https://www.dnr.state.mn.us/lakefind/lake.html...</td>\n",
       "    </tr>\n",
       "  </tbody>\n",
       "</table>\n",
       "</div>"
      ],
      "text/plain": [
       "               Name Nearest Town  County  \\\n",
       "ID                                         \n",
       "1004000      Aitkin        Libby  Aitkin   \n",
       "1003100    Anderson    Sheshebee  Aitkin   \n",
       "1016900    Bachelor       Aitkin  Aitkin   \n",
       "1004600  Ball Bluff     Jacobson  Aitkin   \n",
       "1006300        Bass     McGregor  Aitkin   \n",
       "\n",
       "                                                       URL  \n",
       "ID                                                          \n",
       "1004000  https://www.dnr.state.mn.us/lakefind/lake.html...  \n",
       "1003100  https://www.dnr.state.mn.us/lakefind/lake.html...  \n",
       "1016900  https://www.dnr.state.mn.us/lakefind/lake.html...  \n",
       "1004600  https://www.dnr.state.mn.us/lakefind/lake.html...  \n",
       "1006300  https://www.dnr.state.mn.us/lakefind/lake.html...  "
      ]
     },
     "execution_count": 17,
     "metadata": {},
     "output_type": "execute_result"
    }
   ],
   "source": [
    "dfLakes = pd.read_csv(\"Lakes.csv\", index_col= False)\n",
    "dfLakes.set_index(\"ID\", inplace = True)\n",
    "\n",
    "dfLakes.head()"
   ]
  },
  {
   "cell_type": "code",
   "execution_count": null,
   "metadata": {},
   "outputs": [],
   "source": [
    "def fTest(row):\n",
    "    from selenium import webdriver\n",
    "    from selenium.webdriver.chrome.options import Options\n",
    "\n",
    "    options = Options()\n",
    "    options.headless = True\n",
    "\n",
    "    # Establish chrome driver and go to report site URL\n",
    "    url = row[\"URL\"]\n",
    "    \n",
    "    driver = webdriver.Chrome(chrome_options=options)\n",
    "\n",
    "    driver.get(url)\n",
    "\n",
    "    driver.implicitly_wait(.5)\n",
    "\n",
    "    inputElement = driver.find_element_by_css_selector(\"p\")\n",
    "\n",
    "    scrapedText = inputElement.text\n",
    "\n",
    "    #print(scrapedText)\n",
    "\n",
    "    #lakeID\n",
    "    row[\"lakeID\"] = scrapedText.split(\"\\n\")[0].split(\": \")[1]\n",
    "\n",
    "    #lakeCounty\n",
    "    row[\"lakeCounty\"] = scrapedText.split(\"\\n\")[1].split(\": \")[1]\n",
    "\n",
    "    #lakeNear\n",
    "    row[\"lakeNear\"] = scrapedText.split(\"\\n\")[2].split(\": \")[1]\n",
    "\n",
    "    #lakeBorder\n",
    "    row[\"lakeBorder\"] = scrapedText.split(\"\\n\")[3].split(\": \")[1]\n",
    "\n",
    "    #lakeSentinal\n",
    "    row[\"lakeSentinal\"] = scrapedText.split(\"\\n\")[4].split(\": \")[1]\n",
    "\n",
    "    driver.close()\n",
    "\n",
    "    return row\n",
    "    \n",
    "\n",
    "#dfTmpLakes = dfLakes.head()\n",
    "\n",
    "#DFTmpLakes.loc[:,\"NewCol\"] = \n",
    "#dfTmpLakes.apply(fTest, axis=1)"
   ]
  },
  {
   "cell_type": "code",
   "execution_count": 27,
   "metadata": {},
   "outputs": [
    {
     "name": "stderr",
     "output_type": "stream",
     "text": [
      "C:\\Users\\corylowe\\AppData\\Local\\Temp\\ipykernel_96820\\3108640260.py:11: DeprecationWarning: use options instead of chrome_options\n",
      "  driver = webdriver.Chrome(chrome_options=options)\n",
      "C:\\Users\\corylowe\\AppData\\Local\\Temp\\ipykernel_96820\\3108640260.py:11: DeprecationWarning: use options instead of chrome_options\n",
      "  driver = webdriver.Chrome(chrome_options=options)\n",
      "C:\\Users\\corylowe\\AppData\\Local\\Temp\\ipykernel_96820\\3108640260.py:11: DeprecationWarning: use options instead of chrome_options\n",
      "  driver = webdriver.Chrome(chrome_options=options)\n",
      "C:\\Users\\corylowe\\AppData\\Local\\Temp\\ipykernel_96820\\3108640260.py:11: DeprecationWarning: use options instead of chrome_options\n",
      "  driver = webdriver.Chrome(chrome_options=options)\n",
      "C:\\Users\\corylowe\\AppData\\Local\\Temp\\ipykernel_96820\\3108640260.py:11: DeprecationWarning: use options instead of chrome_options\n",
      "  driver = webdriver.Chrome(chrome_options=options)\n",
      "C:\\Users\\corylowe\\AppData\\Local\\Temp\\ipykernel_96820\\3108640260.py:11: DeprecationWarning: use options instead of chrome_options\n",
      "  driver = webdriver.Chrome(chrome_options=options)\n",
      "C:\\Users\\corylowe\\AppData\\Local\\Temp\\ipykernel_96820\\3108640260.py:11: DeprecationWarning: use options instead of chrome_options\n",
      "  driver = webdriver.Chrome(chrome_options=options)\n",
      "C:\\Users\\corylowe\\AppData\\Local\\Temp\\ipykernel_96820\\3108640260.py:11: DeprecationWarning: use options instead of chrome_options\n",
      "  driver = webdriver.Chrome(chrome_options=options)\n",
      "C:\\Users\\corylowe\\AppData\\Local\\Temp\\ipykernel_96820\\3108640260.py:11: DeprecationWarning: use options instead of chrome_options\n",
      "  driver = webdriver.Chrome(chrome_options=options)\n",
      "C:\\Users\\corylowe\\AppData\\Local\\Temp\\ipykernel_96820\\3108640260.py:11: DeprecationWarning: use options instead of chrome_options\n",
      "  driver = webdriver.Chrome(chrome_options=options)\n",
      "C:\\Users\\corylowe\\AppData\\Local\\Temp\\ipykernel_96820\\3108640260.py:11: DeprecationWarning: use options instead of chrome_options\n",
      "  driver = webdriver.Chrome(chrome_options=options)\n",
      "C:\\Users\\corylowe\\AppData\\Local\\Temp\\ipykernel_96820\\3108640260.py:11: DeprecationWarning: use options instead of chrome_options\n",
      "  driver = webdriver.Chrome(chrome_options=options)\n",
      "C:\\Users\\corylowe\\AppData\\Local\\Temp\\ipykernel_96820\\3108640260.py:11: DeprecationWarning: use options instead of chrome_options\n",
      "  driver = webdriver.Chrome(chrome_options=options)\n",
      "C:\\Users\\corylowe\\AppData\\Local\\Temp\\ipykernel_96820\\3108640260.py:11: DeprecationWarning: use options instead of chrome_options\n",
      "  driver = webdriver.Chrome(chrome_options=options)\n",
      "C:\\Users\\corylowe\\AppData\\Local\\Temp\\ipykernel_96820\\3108640260.py:11: DeprecationWarning: use options instead of chrome_options\n",
      "  driver = webdriver.Chrome(chrome_options=options)\n",
      "Exception ignored in: <function Service.__del__ at 0x000001B352FD45E0>\n",
      "Traceback (most recent call last):\n",
      "  File \"c:\\Users\\corylowe\\anaconda3\\envs\\lakefinder\\lib\\site-packages\\selenium\\webdriver\\common\\service.py\", line 176, in __del__\n",
      "    self.stop()\n",
      "  File \"c:\\Users\\corylowe\\anaconda3\\envs\\lakefinder\\lib\\site-packages\\selenium\\webdriver\\common\\service.py\", line 151, in stop\n",
      "    self.send_remote_shutdown_command()\n",
      "  File \"c:\\Users\\corylowe\\anaconda3\\envs\\lakefinder\\lib\\site-packages\\selenium\\webdriver\\common\\service.py\", line 132, in send_remote_shutdown_command\n",
      "    if not self.is_connectable():\n",
      "  File \"c:\\Users\\corylowe\\anaconda3\\envs\\lakefinder\\lib\\site-packages\\selenium\\webdriver\\common\\service.py\", line 115, in is_connectable\n",
      "    return utils.is_connectable(self.port)\n",
      "  File \"c:\\Users\\corylowe\\anaconda3\\envs\\lakefinder\\lib\\site-packages\\selenium\\webdriver\\common\\utils.py\", line 106, in is_connectable\n",
      "    socket_ = socket.create_connection((host, port), 1)\n",
      "  File \"c:\\Users\\corylowe\\anaconda3\\envs\\lakefinder\\lib\\socket.py\", line 832, in create_connection\n",
      "    sock.connect(sa)\n",
      "KeyboardInterrupt: \n",
      "C:\\Users\\corylowe\\AppData\\Local\\Temp\\ipykernel_96820\\3108640260.py:11: DeprecationWarning: use options instead of chrome_options\n",
      "  driver = webdriver.Chrome(chrome_options=options)\n"
     ]
    }
   ],
   "source": [
    "#dfTmpLakes = dfLakes.head()\n",
    "dfLakesScraped = dfLakes.apply(fTest, axis=1)"
   ]
  },
  {
   "cell_type": "code",
   "execution_count": 1,
   "metadata": {},
   "outputs": [
    {
     "ename": "NameError",
     "evalue": "name 'dfLakesScraped' is not defined",
     "output_type": "error",
     "traceback": [
      "\u001b[1;31m---------------------------------------------------------------------------\u001b[0m",
      "\u001b[1;31mNameError\u001b[0m                                 Traceback (most recent call last)",
      "\u001b[1;32mc:\\Users\\corylowe\\OneDrive\\Analysis\\MN DNR LakeFinder\\lakeFinderScraper.ipynb Cell 7'\u001b[0m in \u001b[0;36m<cell line: 1>\u001b[1;34m()\u001b[0m\n\u001b[1;32m----> <a href='vscode-notebook-cell:/c%3A/Users/corylowe/OneDrive/Analysis/MN%20DNR%20LakeFinder/lakeFinderScraper.ipynb#ch0000007?line=0'>1</a>\u001b[0m dfLakesScraped\n",
      "\u001b[1;31mNameError\u001b[0m: name 'dfLakesScraped' is not defined"
     ]
    }
   ],
   "source": [
    "dfLakesScraped"
   ]
  }
 ],
 "metadata": {
  "interpreter": {
   "hash": "72a21ac95cccc608ed8c70d9771a8bbdeebcc4c6c053a0b5d4fcbc243c7b7dad"
  },
  "kernelspec": {
   "display_name": "Python 3.9.12 ('lakefinder')",
   "language": "python",
   "name": "python3"
  },
  "language_info": {
   "codemirror_mode": {
    "name": "ipython",
    "version": 3
   },
   "file_extension": ".py",
   "mimetype": "text/x-python",
   "name": "python",
   "nbconvert_exporter": "python",
   "pygments_lexer": "ipython3",
   "version": "3.9.12"
  },
  "orig_nbformat": 4
 },
 "nbformat": 4,
 "nbformat_minor": 2
}
