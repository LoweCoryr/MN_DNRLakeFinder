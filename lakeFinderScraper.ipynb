{
 "cells": [
  {
   "cell_type": "code",
   "execution_count": 1,
   "metadata": {},
   "outputs": [],
   "source": [
    "import pandas as pd\n",
    "\n",
    "import time"
   ]
  },
  {
   "cell_type": "code",
   "execution_count": 9,
   "metadata": {},
   "outputs": [],
   "source": [
    "# Load selenium components\n",
    "from selenium import webdriver\n",
    "#from selenium.webdriver.common.by import By\n",
    "#from selenium.webdriver.support.ui import WebDriverWait, Select\n",
    "#from selenium.webdriver.support import expected_conditions as EC\n",
    "from selenium.common.exceptions import TimeoutException\n",
    "from selenium.webdriver.chrome.options import Options"
   ]
  },
  {
   "cell_type": "code",
   "execution_count": 19,
   "metadata": {},
   "outputs": [
    {
     "name": "stdout",
     "output_type": "stream",
     "text": [
      "ID: 01003100\n",
      "County: Aitkin\n",
      "Near: Sheshebee\n",
      "Border Water: No\n",
      "Sentinel Lake: No\n"
     ]
    }
   ],
   "source": [
    "options = Options()\n",
    "options.headless = False\n",
    "\n",
    "url = \"https://www.dnr.state.mn.us/lakefind/lake.html?id=01003100\"\n",
    "driver = webdriver.Chrome('./chromedriver')\n",
    "\n",
    "driver.get(url)\n",
    "\n",
    "time.sleep(5)\n",
    "\n",
    "inputElement = driver.find_element_by_css_selector(\"p\")\n",
    "\n",
    "lakeData = inputElement.text\n",
    "\n",
    "print(lakeData)"
   ]
  }
 ],
 "metadata": {
  "interpreter": {
   "hash": "72a21ac95cccc608ed8c70d9771a8bbdeebcc4c6c053a0b5d4fcbc243c7b7dad"
  },
  "kernelspec": {
   "display_name": "Python 3.9.12 ('lakefinder')",
   "language": "python",
   "name": "python3"
  },
  "language_info": {
   "codemirror_mode": {
    "name": "ipython",
    "version": 3
   },
   "file_extension": ".py",
   "mimetype": "text/x-python",
   "name": "python",
   "nbconvert_exporter": "python",
   "pygments_lexer": "ipython3",
   "version": "3.9.12"
  },
  "orig_nbformat": 4
 },
 "nbformat": 4,
 "nbformat_minor": 2
}
